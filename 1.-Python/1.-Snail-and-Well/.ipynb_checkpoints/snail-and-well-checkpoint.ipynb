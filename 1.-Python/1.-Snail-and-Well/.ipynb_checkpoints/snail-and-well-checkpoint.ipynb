{
 "cells": [
  {
   "cell_type": "markdown",
   "metadata": {},
   "source": [
    "<img src=\"https://bit.ly/2VnXWr2\" width=\"100\" align=\"left\">"
   ]
  },
  {
   "cell_type": "markdown",
   "metadata": {},
   "source": [
    "# The Snail and the Well\n",
    "\n",
    "A snail falls at the bottom of a 125 cm well. Each day the snail rises 30 cm. But at night, while sleeping, slides 20 cm because the walls are wet. How many days does it take for the snail to escape the well?\n",
    "\n",
    "**Hint**: The snail gets out of the well when it surpasses the 125cm of height.\n",
    "\n",
    "## Tools\n",
    "\n",
    "1. Loop: **while**\n",
    "2. Conditional statements: **if-else**\n",
    "3. Function: **print()**\n",
    "\n",
    "## Tasks\n",
    "\n",
    "#### 1. Assign the challenge data to variables with representative names: `well_height`, `daily_distance`, `nightly_distance` and `snail_position`."
   ]
  },
  {
   "cell_type": "code",
   "execution_count": 54,
   "metadata": {},
   "outputs": [],
   "source": [
    "well_height = 125\n",
    "daily_distyance = 30\n",
    "night_distance = 20\n",
    "\n",
    "traveled_per_day = 10\n",
    "snail_position = 0"
   ]
  },
  {
   "cell_type": "markdown",
   "metadata": {},
   "source": [
    "#### 2. Create a variable `days` to keep count of the days that pass until the snail escapes the well. "
   ]
  },
  {
   "cell_type": "code",
   "execution_count": 55,
   "metadata": {},
   "outputs": [],
   "source": [
    "days = 0"
   ]
  },
  {
   "cell_type": "markdown",
   "metadata": {},
   "source": [
    "#### 3. Find the solution to the challenge using the variables defined above. "
   ]
  },
  {
   "cell_type": "code",
   "execution_count": 56,
   "metadata": {},
   "outputs": [
    {
     "name": "stdout",
     "output_type": "stream",
     "text": [
      "30\n",
      "10\n",
      "1\n",
      "40\n",
      "20\n",
      "2\n",
      "50\n",
      "30\n",
      "3\n",
      "60\n",
      "40\n",
      "4\n",
      "70\n",
      "50\n",
      "5\n",
      "80\n",
      "60\n",
      "6\n",
      "90\n",
      "70\n",
      "7\n",
      "100\n",
      "80\n",
      "8\n",
      "110\n",
      "90\n",
      "9\n",
      "120\n",
      "100\n",
      "10\n",
      "130\n"
     ]
    }
   ],
   "source": [
    "snail_position = 0\n",
    "days = 0\n",
    "while snail_position < 125:\n",
    "    snail_position = snail_position + daily_distyance\n",
    "    print(snail_position)\n",
    "    if snail_position < 125:\n",
    "        snail_position = snail_position - night_distance\n",
    "        print(snail_position)\n",
    "    else : break     \n",
    "    days = days + 1 \n",
    "        \n",
    "    print(days)"
   ]
  },
  {
   "cell_type": "markdown",
   "metadata": {},
   "source": [
    "#### 4. Print the solution."
   ]
  },
  {
   "cell_type": "code",
   "execution_count": 57,
   "metadata": {},
   "outputs": [
    {
     "name": "stdout",
     "output_type": "stream",
     "text": [
      "10\n"
     ]
    }
   ],
   "source": [
    "print(days)"
   ]
  },
  {
   "cell_type": "markdown",
   "metadata": {},
   "source": [
    "## Bonus\n",
    "The distance traveled by the snail each day is now defined by a list.\n",
    "```\n",
    "advance_cm = [30, 21, 33, 77, 44, 45, 23, 45, 12, 34, 55]\n",
    "```\n",
    "On the first day, the snail rises 30cm but during the night it slides 20cm. On the second day, the snail rises 21cm but during the night it slides 20cm, and so on. \n",
    "\n",
    "#### 1. How many days does it take for the snail to escape the well?\n",
    "Follow the same guidelines as in the previous challenge.\n",
    "\n",
    "**Hint**: Remember that the snail gets out of the well when it surpasses the 125cm of height."
   ]
  },
  {
   "cell_type": "code",
   "execution_count": 4,
   "metadata": {},
   "outputs": [
    {
     "name": "stdout",
     "output_type": "stream",
     "text": [
      "30\n",
      "31\n",
      "44\n",
      "101\n",
      "125\n",
      "5\n"
     ]
    }
   ],
   "source": [
    "snail_position = 0\n",
    "well_height = 125\n",
    "night_slides = 20\n",
    "advance_cm = [30, 21, 33, 77, 44, 45, 23, 45, 12, 34, 55]\n",
    "days = 0\n",
    "\n",
    "for i in advance_cm:\n",
    "    snail_position = snail_position + i\n",
    "    days = days + 1\n",
    "    print(snail_position)\n",
    "    if snail_position < 125:\n",
    "        snail_position = snail_position - night_slides\n",
    "    else : break\n",
    "          \n",
    "        \n",
    "print(days)\n"
   ]
  },
  {
   "cell_type": "markdown",
   "metadata": {},
   "source": [
    "#### 2. What is its maximum displacement in one day? And its minimum? Calculate the displacement using only the travel distance of the days used to get out of the well. \n",
    "**Hint**: Remember that displacement means the total distance risen taking into account that the snail slides at night.  "
   ]
  },
  {
   "cell_type": "code",
   "execution_count": 5,
   "metadata": {},
   "outputs": [
    {
     "data": {
      "text/plain": [
       "(57, -8)"
      ]
     },
     "execution_count": 5,
     "metadata": {},
     "output_type": "execute_result"
    }
   ],
   "source": [
    "advance_cm = [30, 21, 33, 77, 44, 45, 23, 45, 12, 34, 55]\n",
    "\n",
    "night_slides = 20\n",
    "\n",
    "max(advance_cm)\n",
    "\n",
    "min(advance_cm)\n",
    "\n",
    "max(advance_cm) - night_slides , min(advance_cm) - night_slides\n"
   ]
  },
  {
   "cell_type": "code",
   "execution_count": null,
   "metadata": {},
   "outputs": [],
   "source": []
  },
  {
   "cell_type": "markdown",
   "metadata": {},
   "source": [
    "#### 3. What is its average progress? Take into account the snail slides at night."
   ]
  },
  {
   "cell_type": "code",
   "execution_count": 19,
   "metadata": {},
   "outputs": [
    {
     "name": "stdout",
     "output_type": "stream",
     "text": [
      "30 subiu\n",
      "10 desceu\n",
      "31 subiu\n",
      "11 desceu\n",
      "44 subiu\n",
      "24 desceu\n",
      "101 subiu\n",
      "81 desceu\n",
      "125 subiu\n",
      "[10, 11, 24, 81, 125]\n"
     ]
    },
    {
     "data": {
      "text/plain": [
       "50.2"
      ]
     },
     "execution_count": 19,
     "metadata": {},
     "output_type": "execute_result"
    }
   ],
   "source": [
    "import numpy as np\n",
    "\n",
    "snail_position = 0\n",
    "\n",
    "advance_cm = [30, 21, 33, 77, 44, 45, 23, 45, 12, 34, 55]\n",
    "\n",
    "night_slides = 20\n",
    "\n",
    "((max(advance_cm) - night_slides)+(min(advance_cm) - night_slides)) / days\n",
    "\n",
    "advance_list = []\n",
    "\n",
    "for i in advance_cm:\n",
    "    snail_position = snail_position + i\n",
    "    print(snail_position,'subiu')\n",
    "    if snail_position < 125:\n",
    "        snail_position = snail_position - night_slides \n",
    "        advance_list.append(snail_position)    \n",
    "        print(snail_position,'desceu')\n",
    "    else:\n",
    "        advance_list.append(snail_position)\n",
    "        print(advance_list)\n",
    "        break\n",
    "        \n",
    "        \n",
    "sum(advance_list)/len(advance_list)\n"
   ]
  },
  {
   "cell_type": "markdown",
   "metadata": {},
   "source": [
    "#### 4. What is the standard deviation of its displacement? Take into account the snail slides at night."
   ]
  },
  {
   "cell_type": "code",
   "execution_count": 20,
   "metadata": {},
   "outputs": [
    {
     "data": {
      "text/plain": [
       "45.5692879031481"
      ]
     },
     "execution_count": 20,
     "metadata": {},
     "output_type": "execute_result"
    }
   ],
   "source": [
    "np.std(advance_list)"
   ]
  },
  {
   "cell_type": "code",
   "execution_count": null,
   "metadata": {},
   "outputs": [],
   "source": []
  }
 ],
 "metadata": {
  "kernelspec": {
   "display_name": "Python 3",
   "language": "python",
   "name": "python3"
  },
  "language_info": {
   "codemirror_mode": {
    "name": "ipython",
    "version": 3
   },
   "file_extension": ".py",
   "mimetype": "text/x-python",
   "name": "python",
   "nbconvert_exporter": "python",
   "pygments_lexer": "ipython3",
   "version": "3.7.6"
  }
 },
 "nbformat": 4,
 "nbformat_minor": 2
}
